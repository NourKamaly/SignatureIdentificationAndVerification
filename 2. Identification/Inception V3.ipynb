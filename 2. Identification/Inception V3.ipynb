{
  "cells": [
    {
      "cell_type": "code",
      "execution_count": 1,
      "metadata": {
        "colab": {
          "base_uri": "https://localhost:8080/"
        },
        "id": "ZkPvVRc69umG",
        "outputId": "a0eba415-e154-42d1-809c-addbbc94f099"
      },
      "outputs": [
        {
          "output_type": "stream",
          "name": "stdout",
          "text": [
            "Mounted at /content/drive\n"
          ]
        }
      ],
      "source": [
        "from google.colab import drive\n",
        "drive.mount('/content/drive')"
      ]
    },
    {
      "cell_type": "code",
      "execution_count": 26,
      "metadata": {
        "id": "ZoRsJYjc9w-J"
      },
      "outputs": [],
      "source": [
        "import keras, os\n",
        "import tensorflow as tf\n",
        "from keras.models import Model\n",
        "import matplotlib.pyplot as plt\n",
        "from keras.models import Sequential\n",
        "from tensorflow.keras.layers import concatenate\n",
        "from keras.preprocessing.image import ImageDataGenerator\n",
        "from tensorflow.keras import datasets, layers, models, losses\n",
        "from keras.layers import Input, Dense, Conv2D, MaxPool2D , Flatten, MaxPooling2D, GlobalAveragePooling2D ,AveragePooling2D, Dropout, Activation, BatchNormalization\n",
        "from keras.models import load_model\n",
        "from keras_preprocessing.image import load_img\n",
        "from keras_preprocessing.image import img_to_array\n",
        "from tensorflow.keras.applications.vgg16 import VGG16\n",
        "import numpy as np\n",
        "import cv2\n",
        "import os"
      ]
    },
    {
      "cell_type": "markdown",
      "source": [
        "# **Read Data**"
      ],
      "metadata": {
        "id": "eabgthxdS3Yh"
      }
    },
    {
      "cell_type": "code",
      "source": [
        "labels = ['personA', 'personB', 'personC', 'personD', 'personE']\n",
        "\n",
        "img_size = 150\n",
        "\n",
        "def get_data(data_dir):\n",
        "  data = [] \n",
        "  for label in labels: \n",
        "      path = os.path.join(data_dir, label)\n",
        "      class_num = labels.index(label)\n",
        "      for img in os.listdir(path):\n",
        "          try:\n",
        "              img_arr = cv2.imread(os.path.join(path, img))[...,::-1] #convert BGR to RGB format\n",
        "              resized_arr = cv2.resize(img_arr, (img_size, img_size)) # Reshaping images to preferred size\n",
        "              c = [0,0,0,0,0]\n",
        "              c[class_num] = 1\n",
        "              data.append([resized_arr, c])\n",
        "          except Exception as e:\n",
        "              print(e)\n",
        "  return np.array(data)\n",
        "\n",
        "train = get_data('/content/drive/MyDrive/CV_Dataset/Aug_Train')\n",
        "val = get_data('/content/drive/MyDrive/CV_Dataset/Aug_Validation')"
      ],
      "metadata": {
        "colab": {
          "base_uri": "https://localhost:8080/"
        },
        "outputId": "3df3a2bb-d55e-48a9-e81d-ad4716ed6194",
        "id": "DegqRj-UQnZb"
      },
      "execution_count": 6,
      "outputs": [
        {
          "output_type": "stream",
          "name": "stderr",
          "text": [
            "<ipython-input-6-e9b204a9cd18>:19: VisibleDeprecationWarning: Creating an ndarray from ragged nested sequences (which is a list-or-tuple of lists-or-tuples-or ndarrays with different lengths or shapes) is deprecated. If you meant to do this, you must specify 'dtype=object' when creating the ndarray.\n",
            "  return np.array(data)\n"
          ]
        }
      ]
    },
    {
      "cell_type": "code",
      "source": [
        "x_train = []\n",
        "y_train = []\n",
        "x_val = []\n",
        "y_val = []\n",
        "\n",
        "for feature, label in train:\n",
        "  x_train.append(feature)\n",
        "  y_train.append(label)\n",
        "\n",
        "for feature, label in val:\n",
        "  x_val.append(feature)\n",
        "  y_val.append(label)\n",
        "\n",
        "# Normalize the data\n",
        "x_train = np.array(x_train) / 255\n",
        "x_val = np.array(x_val) / 255\n",
        "\n",
        "x_train.reshape(-1, img_size, img_size, 1)\n",
        "y_train = np.array(y_train)\n",
        "\n",
        "x_val.reshape(-1, img_size, img_size, 1)\n",
        "y_val = np.array(y_val)"
      ],
      "metadata": {
        "id": "5gVTZfJNu1u3"
      },
      "execution_count": 7,
      "outputs": []
    },
    {
      "cell_type": "code",
      "source": [
        "print(x_train.shape)\n",
        "print(y_train.shape)\n",
        "print(x_val.shape)\n",
        "print(y_val.shape)"
      ],
      "metadata": {
        "colab": {
          "base_uri": "https://localhost:8080/"
        },
        "id": "IPgRPLaJwfps",
        "outputId": "251cd44f-5f3c-4b26-e8f7-eda486a95a42"
      },
      "execution_count": 8,
      "outputs": [
        {
          "output_type": "stream",
          "name": "stdout",
          "text": [
            "(991, 150, 150, 3)\n",
            "(991, 5)\n",
            "(200, 150, 150, 3)\n",
            "(200, 5)\n"
          ]
        }
      ]
    },
    {
      "cell_type": "markdown",
      "source": [
        "# **Inception-V3 _ Model**"
      ],
      "metadata": {
        "id": "S_6AR29BS7de"
      }
    },
    {
      "cell_type": "code",
      "execution_count": 19,
      "metadata": {
        "id": "cAFQTG0K9xCk"
      },
      "outputs": [],
      "source": [
        "from tensorflow.keras.applications.inception_v3 import InceptionV3\n",
        "base_model = InceptionV3(input_shape = (150, 150, 3), include_top = False, weights = 'imagenet')"
      ]
    },
    {
      "cell_type": "code",
      "execution_count": 20,
      "metadata": {
        "id": "Tbqa3Pur9xE1"
      },
      "outputs": [],
      "source": [
        "for layer in base_model.layers:\n",
        "    layer.trainable = False"
      ]
    },
    {
      "cell_type": "code",
      "execution_count": 21,
      "metadata": {
        "id": "pWPMdzYZ9xHI"
      },
      "outputs": [],
      "source": [
        "from tensorflow.keras.optimizers import RMSprop\n",
        "\n",
        "x = layers.Flatten()(base_model.output)\n",
        "x = layers.Dense(512, activation='relu')(x)\n",
        "x = layers.Dropout(0.2)(x)\n",
        "x = layers.Dense(5, activation='Softmax')(x)\n",
        "model = tf.keras.models.Model(base_model.input, x)\n",
        "\n",
        "model.compile(optimizer = 'adam', loss = 'categorical_crossentropy', metrics = ['acc'])"
      ]
    },
    {
      "cell_type": "code",
      "execution_count": 22,
      "metadata": {
        "id": "Xdk4nbqo9xJk"
      },
      "outputs": [],
      "source": [
        "from tensorflow.keras.callbacks import EarlyStopping \n",
        "early_stopping = EarlyStopping(restore_best_weights=True,patience=2)"
      ]
    },
    {
      "cell_type": "code",
      "execution_count": 23,
      "metadata": {
        "colab": {
          "base_uri": "https://localhost:8080/"
        },
        "id": "gnr2lOQm9xL2",
        "outputId": "4ba514af-2b0a-4277-cce2-0914e161048b"
      },
      "outputs": [
        {
          "output_type": "stream",
          "name": "stdout",
          "text": [
            "Epoch 1/10\n",
            "31/31 [==============================] - 37s 1s/step - loss: 1.3706 - acc: 0.8133 - val_loss: 0.6682 - val_acc: 0.8800\n",
            "Epoch 2/10\n",
            "31/31 [==============================] - 32s 1s/step - loss: 0.2047 - acc: 0.9556 - val_loss: 0.1497 - val_acc: 0.9700\n",
            "Epoch 3/10\n",
            "31/31 [==============================] - 32s 1s/step - loss: 0.0559 - acc: 0.9919 - val_loss: 0.1442 - val_acc: 0.9600\n",
            "Epoch 4/10\n",
            "31/31 [==============================] - 33s 1s/step - loss: 0.0244 - acc: 0.9919 - val_loss: 0.0953 - val_acc: 0.9650\n",
            "Epoch 5/10\n",
            "31/31 [==============================] - 37s 1s/step - loss: 0.0056 - acc: 0.9980 - val_loss: 0.0906 - val_acc: 0.9800\n",
            "Epoch 6/10\n",
            "31/31 [==============================] - 32s 1s/step - loss: 0.0049 - acc: 0.9980 - val_loss: 0.1134 - val_acc: 0.9650\n",
            "Epoch 7/10\n",
            "31/31 [==============================] - 34s 1s/step - loss: 0.0018 - acc: 1.0000 - val_loss: 0.0864 - val_acc: 0.9750\n",
            "Epoch 8/10\n",
            "31/31 [==============================] - 33s 1s/step - loss: 5.3455e-04 - acc: 1.0000 - val_loss: 0.0942 - val_acc: 0.9750\n",
            "Epoch 9/10\n",
            "31/31 [==============================] - 33s 1s/step - loss: 5.4461e-04 - acc: 1.0000 - val_loss: 0.0944 - val_acc: 0.9800\n"
          ]
        }
      ],
      "source": [
        "Inceptionhist = model.fit(x_train, y_train, validation_data = (x_val,y_val), epochs = 10, callbacks = [early_stopping])"
      ]
    },
    {
      "cell_type": "markdown",
      "source": [
        "# **History Plot**"
      ],
      "metadata": {
        "id": "-p72FgN3X0QT"
      }
    },
    {
      "cell_type": "code",
      "execution_count": 24,
      "metadata": {
        "id": "CrbI29JT9xPN"
      },
      "outputs": [],
      "source": [
        "def history_plot(history):\n",
        "  acc = history.history['acc']\n",
        "  val_acc = history.history['val_acc']\n",
        "  loss = history.history['loss']\n",
        "  val_loss = history.history['val_loss']\n",
        "  epochs_range = range(len(acc))\n",
        "  plt.figure(figsize=(12, 8))\n",
        "  plt.subplot(2, 1, 1)\n",
        "  plt.plot(epochs_range, acc, label='Training Accuracy')\n",
        "  plt.plot(epochs_range, val_acc, label='Validation Accuracy')\n",
        "  plt.legend(loc='lower right')\n",
        "  plt.title('Training and Validation Accuracy')\n",
        "  plt.subplot(2, 1, 2)\n",
        "  plt.plot(epochs_range, loss, label='Training Loss')\n",
        "  plt.plot(epochs_range, val_loss, label='Validation Loss')\n",
        "  plt.legend(loc='upper right')\n",
        "  plt.title('Training and Validation Loss')\n",
        "  plt.show()"
      ]
    },
    {
      "cell_type": "code",
      "execution_count": 25,
      "metadata": {
        "colab": {
          "base_uri": "https://localhost:8080/",
          "height": 499
        },
        "id": "SPgC0XGQ-1SI",
        "outputId": "8cb09b4b-5ee1-4895-dffa-9b7cae5ba44c"
      },
      "outputs": [
        {
          "output_type": "display_data",
          "data": {
            "text/plain": [
              "<Figure size 864x576 with 2 Axes>"
            ],
            "image/png": "[encoded data removed]"
          },
          "metadata": {
            "needs_background": "light"
          }
        }
      ],
      "source": [
        "history_plot(Inceptionhist)"
      ]
    },
    {
      "cell_type": "markdown",
      "source": [
        "# **Save Model**"
      ],
      "metadata": {
        "id": "JuJuxFcAX5L8"
      }
    },
    {
      "cell_type": "code",
      "execution_count": 27,
      "metadata": {
        "id": "8J8D9yzyEznp"
      },
      "outputs": [],
      "source": [
        "from tensorflow.keras.models import load_model\n",
        "model.save('model_InceptionV3.h5')"
      ]
    },
    {
      "cell_type": "code",
      "source": [
        "from keras.models import load_model\n",
        "inception_model = load_model('model_InceptionV3.h5')"
      ],
      "metadata": {
        "id": "GNM7yXOjTWms"
      },
      "execution_count": 28,
      "outputs": []
    },
    {
      "cell_type": "code",
      "source": [
        "def predict_person(path):\n",
        "  labels = ['personA', 'personB', 'personC', 'personD', 'personE']\n",
        "  image = load_img(path, target_size=(150, 150))\n",
        "  img = np.array(image)\n",
        "  img = img / 255.0\n",
        "  img = img.reshape(1,150,150,3)\n",
        "  predictions = inception_model.predict(img)\n",
        "  person = labels[predictions.argmax()]\n",
        "  return person\n",
        "\n",
        "image_path = r'/content/drive/MyDrive/CV_Dataset/CV2023TestSamples/SignatureTestSamples/personD_real2.png'\n",
        "i = predict_person(image_path)\n",
        "print(i)"
      ],
      "metadata": {
        "colab": {
          "base_uri": "https://localhost:8080/"
        },
        "id": "SXRe_ksHTau-",
        "outputId": "2eca0b1a-dffc-49c6-b103-a22884e0f0ec"
      },
      "execution_count": 30,
      "outputs": [
        {
          "output_type": "stream",
          "name": "stdout",
          "text": [
            "1/1 [==============================] - 1s 935ms/step\n",
            "personD\n"
          ]
        }
      ]
    },
    {
      "cell_type": "code",
      "source": [],
      "metadata": {
        "id": "yYsi8kMmVYAT"
      },
      "execution_count": null,
      "outputs": []
    }
  ],
  "metadata": {
    "accelerator": "GPU",
    "colab": {
      "provenance": []
    },
    "gpuClass": "standard",
    "kernelspec": {
      "display_name": "Python 3",
      "name": "python3"
    },
    "language_info": {
      "name": "python"
    }
  },
  "nbformat": 4,
  "nbformat_minor": 0
}