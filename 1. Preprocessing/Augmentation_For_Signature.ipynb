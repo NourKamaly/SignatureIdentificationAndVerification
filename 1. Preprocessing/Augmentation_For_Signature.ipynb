{
  "nbformat": 4,
  "nbformat_minor": 0,
  "metadata": {
    "colab": {
      "provenance": []
    },
    "kernelspec": {
      "name": "python3",
      "display_name": "Python 3"
    },
    "language_info": {
      "name": "python"
    }
  },
  "cells": [
    {
      "cell_type": "code",
      "source": [
        "from google.colab import drive\n",
        "drive.mount('/content/drive')"
      ],
      "metadata": {
        "colab": {
          "base_uri": "https://localhost:8080/"
        },
        "id": "Wr3D_GizvusA",
        "outputId": "1ad5d42c-9733-47fe-b1c9-0725489b8755"
      },
      "execution_count": 1,
      "outputs": [
        {
          "output_type": "stream",
          "name": "stdout",
          "text": [
            "Mounted at /content/drive\n"
          ]
        }
      ]
    },
    {
      "cell_type": "code",
      "source": [
        "import cv2\n",
        "import os\n",
        "import numpy as np"
      ],
      "metadata": {
        "id": "1UFFHvvFvvrf"
      },
      "execution_count": 2,
      "outputs": []
    },
    {
      "cell_type": "code",
      "source": [
        "#Origin Datasets\n",
        "dir_train ={\n",
        "'personA' : '/content/drive/MyDrive/Train/personA',\n",
        "'personB' : '/content/drive/MyDrive/Train/personB',\n",
        "'personC' : '/content/drive/MyDrive/Train/personC',\n",
        "'personD' : '/content/drive/MyDrive/Train/personD',\n",
        "'personE' : '/content/drive/MyDrive/Train/personE',\n",
        "}\n",
        "\n",
        "dir_validation ={\n",
        "'personA' : '/content/drive/MyDrive/Validation/personA',\n",
        "'personB' : '/content/drive/MyDrive/Validation/personB',\n",
        "'personC' : '/content/drive/MyDrive/Validation/personC',\n",
        "'personD' : '/content/drive/MyDrive/Validation/personD',\n",
        "'personE' : '/content/drive/MyDrive/Validation/personE',\n",
        "}\n",
        "\n",
        "\n",
        "\n",
        "#Augmented Datasets\n",
        "dir_train_aug ={\n",
        "'personA' : '/content/drive/MyDrive/Aug_Train/personA',\n",
        "'personB' : '/content/drive/MyDrive/Aug_Train/personB',\n",
        "'personC' : '/content/drive/MyDrive/Aug_Train/personC',\n",
        "'personD' : '/content/drive/MyDrive/Aug_Train/personD',\n",
        "'personE' : '/content/drive/MyDrive/Aug_Train/personE',\n",
        "}\n",
        "\n",
        "dir_validation_aug = {\n",
        "'personA' : '/content/drive/MyDrive/Aug_Validation/personA',\n",
        "'personB' : '/content/drive/MyDrive/Aug_Validation/personB',\n",
        "'personC' : '/content/drive/MyDrive/Aug_Validation/personC',\n",
        "'personD' : '/content/drive/MyDrive/Aug_Validation/personD',\n",
        "'personE' : '/content/drive/MyDrive/Aug_Validation/personE',\n",
        "}"
      ],
      "metadata": {
        "id": "aTtEnzu0eeFD"
      },
      "execution_count": 8,
      "outputs": []
    },
    {
      "cell_type": "code",
      "source": [
        "for sport, dir_train_ori, dir_train_aug, dir_valid_ori, dir_valid_aug in zip(dir_train.keys(), dir_train.values(), dir_train_aug.values(), dir_validation.values(), dir_validation_aug.values()):\n",
        "  print(f\"sport: {sport}\\n train_orig: {len(os.listdir(dir_train_ori))}\\n train_aug: {len(os.listdir(dir_train_aug))}\\n validation_orig: {len(os.listdir(dir_valid_ori))}\\n validation_aug: {len(os.listdir(dir_valid_aug))}\")\n",
        "  print(\"********************************************************************\")"
      ],
      "metadata": {
        "colab": {
          "base_uri": "https://localhost:8080/"
        },
        "id": "WOqUPu_Lerwp",
        "outputId": "ce514e12-4704-423f-c05a-3bef8bb676d7"
      },
      "execution_count": 5,
      "outputs": [
        {
          "output_type": "stream",
          "name": "stdout",
          "text": [
            "sport: personA\n",
            " train_orig: 40\n",
            " train_aug: 0\n",
            " validation_orig: 8\n",
            " validation_aug: 0\n",
            "********************************************************************\n",
            "sport: personB\n",
            " train_orig: 40\n",
            " train_aug: 0\n",
            " validation_orig: 8\n",
            " validation_aug: 0\n",
            "********************************************************************\n",
            "sport: personC\n",
            " train_orig: 40\n",
            " train_aug: 0\n",
            " validation_orig: 8\n",
            " validation_aug: 0\n",
            "********************************************************************\n",
            "sport: personD\n",
            " train_orig: 40\n",
            " train_aug: 0\n",
            " validation_orig: 8\n",
            " validation_aug: 0\n",
            "********************************************************************\n",
            "sport: personE\n",
            " train_orig: 40\n",
            " train_aug: 0\n",
            " validation_orig: 8\n",
            " validation_aug: 0\n",
            "********************************************************************\n"
          ]
        }
      ]
    },
    {
      "cell_type": "code",
      "execution_count": 7,
      "metadata": {
        "id": "3jYOg64FYe_k"
      },
      "outputs": [],
      "source": [
        "import os\n",
        "from keras.preprocessing.image import ImageDataGenerator\n",
        "from tensorflow.keras.utils import array_to_img, img_to_array, load_img\n",
        "   \n",
        "datagen = ImageDataGenerator(\n",
        "      rescale = 1./255,\n",
        "\t    rotation_range=20,\n",
        "      width_shift_range=0.2,\n",
        "      height_shift_range=0.2,\n",
        "      zoom_range=0.2,\n",
        "      horizontal_flip=False,\n",
        "      fill_mode='nearest',\n",
        "      brightness_range = (0.5, 1.5))\n",
        "    \n",
        "\n",
        "for sport, dir_train_ori, dir_train_aug, dir_valid_ori, dir_valid_aug in zip(dir_train.keys(),dir_train.values(),dir_train_aug.values(),dir_validation.values(),dir_validation_aug.values()):\n",
        "  \n",
        "  for image in os.listdir(dir_train_ori):\n",
        "    \n",
        "    img = load_img(dir_train_ori+'/'+image) \n",
        "    x = img_to_array(img)\n",
        "    x = x.reshape((1, ) + x.shape) \n",
        "    \n",
        "    i = 0\n",
        "    for batch in datagen.flow(x, batch_size = 1, save_to_dir = dir_train_aug, save_prefix = sport, save_format ='png'):\n",
        "        i += 1\n",
        "        if i > 4:\n",
        "            break\n",
        "\n",
        "  \n",
        "  \n",
        "  for image in os.listdir(dir_valid_ori):\n",
        "\n",
        "    img = load_img(dir_valid_ori+'/'+image)\n",
        "    x = img_to_array(img)\n",
        "    x = x.reshape((1, ) + x.shape) \n",
        "    \n",
        "    i = 0\n",
        "    for batch in datagen.flow(x, batch_size = 1, save_to_dir = dir_valid_aug, save_prefix = sport, save_format ='png'):\n",
        "        i += 1\n",
        "        if i > 4:\n",
        "            break"
      ]
    },
    {
      "cell_type": "code",
      "source": [
        "for sport, dir_train_ori, dir_train_aug, dir_valid_ori, dir_valid_aug in zip(dir_train.keys(), dir_train.values(), dir_train_aug.values(), dir_validation.values(), dir_validation_aug.values()):\n",
        "  print(f\"sport: {sport}\\n train_orig: {len(os.listdir(dir_train_ori))}\\n train_aug: {len(os.listdir(dir_train_aug))}\\n validation_orig: {len(os.listdir(dir_valid_ori))}\\n validation_aug: {len(os.listdir(dir_valid_aug))}\")\n",
        "  print(\"********************************************************************\")"
      ],
      "metadata": {
        "colab": {
          "base_uri": "https://localhost:8080/"
        },
        "id": "I4wR3XtBzfVx",
        "outputId": "240281e2-8061-4cfc-8389-00722c0bd1bd"
      },
      "execution_count": 9,
      "outputs": [
        {
          "output_type": "stream",
          "name": "stdout",
          "text": [
            "sport: personA\n",
            " train_orig: 40\n",
            " train_aug: 198\n",
            " validation_orig: 8\n",
            " validation_aug: 40\n",
            "********************************************************************\n",
            "sport: personB\n",
            " train_orig: 40\n",
            " train_aug: 198\n",
            " validation_orig: 8\n",
            " validation_aug: 40\n",
            "********************************************************************\n",
            "sport: personC\n",
            " train_orig: 40\n",
            " train_aug: 199\n",
            " validation_orig: 8\n",
            " validation_aug: 40\n",
            "********************************************************************\n",
            "sport: personD\n",
            " train_orig: 40\n",
            " train_aug: 197\n",
            " validation_orig: 8\n",
            " validation_aug: 40\n",
            "********************************************************************\n",
            "sport: personE\n",
            " train_orig: 40\n",
            " train_aug: 199\n",
            " validation_orig: 8\n",
            " validation_aug: 40\n",
            "********************************************************************\n"
          ]
        }
      ]
    },
    {
      "cell_type": "code",
      "source": [],
      "metadata": {
        "id": "8DmJsHbd0Ne0"
      },
      "execution_count": null,
      "outputs": []
    }
  ]
}