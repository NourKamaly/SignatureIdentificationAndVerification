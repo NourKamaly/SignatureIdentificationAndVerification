{
  "nbformat": 4,
  "nbformat_minor": 0,
  "metadata": {
    "colab": {
      "provenance": []
    },
    "kernelspec": {
      "name": "python3",
      "display_name": "Python 3"
    },
    "language_info": {
      "name": "python"
    }
  },
  "cells": [
    {
      "cell_type": "code",
      "source": [
        "from google.colab import drive\n",
        "drive.mount('/content/drive')"
      ],
      "metadata": {
        "id": "Ao38JkjVHUIT"
      },
      "execution_count": null,
      "outputs": []
    },
    {
      "cell_type": "code",
      "execution_count": null,
      "metadata": {
        "id": "p7u08IhWd9E4"
      },
      "outputs": [],
      "source": [
        "from tensorflow.keras.applications.inception_v3 import preprocess_input \n",
        "from keras_preprocessing.image import load_img\n",
        "from keras_preprocessing.image import img_to_array\n",
        "from keras.models import load_model\n",
        "import numpy as np\n",
        "import cv2\n",
        "import os\n",
        "\n",
        "\n",
        "def predict_person(model_classification, path):\n",
        "  labels = ['personA', 'personB', 'personC', 'personD', 'personE']\n",
        "  image = load_img(path, target_size=(224, 224))\n",
        "  img = np.array(image)\n",
        "  img = img / 255.0\n",
        "  img = img.reshape(1,224,224,3)\n",
        "  VGG_model = load_model(model_classification)\n",
        "  predictions = VGG_model.predict(img)\n",
        "  person = labels[predictions.argmax()]\n",
        "  return person\n",
        "\n",
        "\n",
        "\n",
        "def detect_similarity(model_similarity, real_img, img, threshold=0.5):\n",
        "  image1 = cv2.imread(real_img)\n",
        "  image1 = cv2.cvtColor(image1, cv2.COLOR_BGR2RGB)\n",
        "  image1 = cv2.resize(image1, (128, 128))\n",
        "\n",
        "  image2 = cv2.imread(img)\n",
        "  image2 = cv2.cvtColor(image2, cv2.COLOR_BGR2RGB)\n",
        "  image2 = cv2.resize(image2, (128, 128))\n",
        "\n",
        "  im1 = preprocess_input(image1)\n",
        "  im2 = preprocess_input(image2)\n",
        "\n",
        "  model = load_model(model_similarity)\n",
        "  embedding1 = model.predict(np.array([im1]))\n",
        "  embedding2 = model.predict(np.array([im2]))\n",
        "  distance = np.sum(np.square(embedding1-embedding2), axis=-1)\n",
        "  \n",
        "  L = ['Not-Similar','Similar']\n",
        "  prediction = np.where(distance<=threshold, 1, 0)\n",
        "  \n",
        "  return L[prediction[0]]\n",
        "\n",
        "\n",
        "image_Path_for_classification = r'/content/drive/MyDrive/CV_Dataset/CV2023TestSamples/SignatureTestSamples/personA_forged.png'\n",
        "model_classification = r'/content/drive/MyDrive/CV_Dataset/Saved models/model_VGG.h5'\n",
        "\n",
        "real_image = r'/content/drive/MyDrive/CV_Dataset/Real_Data/personA/A.png'\n",
        "model_similarity = r'/content/drive/MyDrive/CV_Dataset/Saved models/model.h5'\n",
        "\n",
        "person = predict_person(model_classification, image_Path_for_classification)\n",
        "print(person)\n",
        "\n",
        "similarity = detect_similarity(model_similarity, real_image, image_Path_for_classification)\n",
        "print(similarity)"
      ]
    }
  ]
}