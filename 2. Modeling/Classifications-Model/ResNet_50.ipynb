{
  "nbformat": 4,
  "nbformat_minor": 0,
  "metadata": {
    "colab": {
      "provenance": []
    },
    "kernelspec": {
      "name": "python3",
      "display_name": "Python 3"
    },
    "language_info": {
      "name": "python"
    }
  },
  "cells": [
    {
      "cell_type": "code",
      "execution_count": 1,
      "metadata": {
        "id": "ZkPvVRc69umG",
        "colab": {
          "base_uri": "https://localhost:8080/"
        },
        "outputId": "66a06776-105d-4b74-f205-8adc7427ab02"
      },
      "outputs": [
        {
          "output_type": "stream",
          "name": "stdout",
          "text": [
            "Drive already mounted at /content/drive; to attempt to forcibly remount, call drive.mount(\"/content/drive\", force_remount=True).\n"
          ]
        }
      ],
      "source": [
        "from google.colab import drive\n",
        "drive.mount('/content/drive')"
      ]
    },
    {
      "cell_type": "code",
      "source": [
        "import keras, os\n",
        "import tensorflow as tf\n",
        "from keras.models import Model\n",
        "import matplotlib.pyplot as plt\n",
        "from keras.models import Sequential\n",
        "from tensorflow.keras.layers import concatenate\n",
        "from keras.preprocessing.image import ImageDataGenerator\n",
        "from tensorflow.keras import datasets, layers, models, losses\n",
        "from keras.layers import Input, Dense, Conv2D, MaxPool2D , Flatten, MaxPooling2D, GlobalAveragePooling2D ,AveragePooling2D, Dropout, Activation, BatchNormalization\n",
        "from keras.models import load_model\n",
        "from keras_preprocessing.image import load_img\n",
        "from keras_preprocessing.image import img_to_array\n",
        "from tensorflow.keras.applications.vgg16 import VGG16\n",
        "import numpy as np\n",
        "import cv2"
      ],
      "metadata": {
        "id": "ZoRsJYjc9w-J"
      },
      "execution_count": 2,
      "outputs": []
    },
    {
      "cell_type": "markdown",
      "source": [
        "# **Read Data**"
      ],
      "metadata": {
        "id": "kJtYJLa7ddEE"
      }
    },
    {
      "cell_type": "code",
      "source": [
        "labels = ['personA', 'personB', 'personC', 'personD', 'personE']\n",
        "\n",
        "img_size = 224\n",
        "\n",
        "def get_data(data_dir):\n",
        "  data = [] \n",
        "  for label in labels: \n",
        "      path = os.path.join(data_dir, label)\n",
        "      class_num = labels.index(label)\n",
        "      for img in os.listdir(path):\n",
        "          try:\n",
        "              img_arr = cv2.imread(os.path.join(path, img))[...,::-1] #convert BGR to RGB format\n",
        "              resized_arr = cv2.resize(img_arr, (img_size, img_size)) # Reshaping images to preferred size\n",
        "              c = [0,0,0,0,0]\n",
        "              c[class_num] = 1\n",
        "              data.append([resized_arr, c])\n",
        "          except Exception as e:\n",
        "              print(e)\n",
        "  return np.array(data)\n",
        "\n",
        "train = get_data('/content/drive/MyDrive/CV_Dataset/Aug_Train')\n",
        "val = get_data('/content/drive/MyDrive/CV_Dataset/Aug_Validation')"
      ],
      "metadata": {
        "colab": {
          "base_uri": "https://localhost:8080/"
        },
        "outputId": "5cf1c6cc-2b0e-4f1b-fc7f-83151f7f9962",
        "id": "DegqRj-UQnZb"
      },
      "execution_count": 3,
      "outputs": [
        {
          "output_type": "stream",
          "name": "stderr",
          "text": [
            "<ipython-input-3-5be82c5a5ea7>:19: VisibleDeprecationWarning: Creating an ndarray from ragged nested sequences (which is a list-or-tuple of lists-or-tuples-or ndarrays with different lengths or shapes) is deprecated. If you meant to do this, you must specify 'dtype=object' when creating the ndarray.\n",
            "  return np.array(data)\n"
          ]
        }
      ]
    },
    {
      "cell_type": "code",
      "source": [
        "x_train = []\n",
        "y_train = []\n",
        "x_val = []\n",
        "y_val = []\n",
        "\n",
        "for feature, label in train:\n",
        "  x_train.append(feature)\n",
        "  y_train.append(label)\n",
        "\n",
        "for feature, label in val:\n",
        "  x_val.append(feature)\n",
        "  y_val.append(label)\n",
        "\n",
        "# Normalize the data\n",
        "x_train = np.array(x_train) / 255\n",
        "x_val = np.array(x_val) / 255\n",
        "\n",
        "x_train.reshape(-1, img_size, img_size, 1)\n",
        "y_train = np.array(y_train)\n",
        "\n",
        "x_val.reshape(-1, img_size, img_size, 1)\n",
        "y_val = np.array(y_val)"
      ],
      "metadata": {
        "id": "5gVTZfJNu1u3"
      },
      "execution_count": 4,
      "outputs": []
    },
    {
      "cell_type": "code",
      "source": [
        "print(x_train.shape)\n",
        "print(y_train.shape)\n",
        "print(x_val.shape)\n",
        "print(y_val.shape)"
      ],
      "metadata": {
        "colab": {
          "base_uri": "https://localhost:8080/"
        },
        "id": "IPgRPLaJwfps",
        "outputId": "be700fbc-be59-491b-f7fe-8166aa66892e"
      },
      "execution_count": 5,
      "outputs": [
        {
          "output_type": "stream",
          "name": "stdout",
          "text": [
            "(991, 224, 224, 3)\n",
            "(991, 5)\n",
            "(200, 224, 224, 3)\n",
            "(200, 5)\n"
          ]
        }
      ]
    },
    {
      "cell_type": "markdown",
      "source": [
        "# **ResNet-50 _ Model**"
      ],
      "metadata": {
        "id": "s3N1kXSQdiIr"
      }
    },
    {
      "cell_type": "code",
      "source": [
        "from tensorflow.keras.applications import ResNet50\n",
        "base_model = ResNet50(input_shape=(224, 224,3), include_top=False, weights=\"imagenet\")"
      ],
      "metadata": {
        "id": "cUd0_WQaAlmz"
      },
      "execution_count": 6,
      "outputs": []
    },
    {
      "cell_type": "code",
      "source": [
        "for layer in base_model.layers:\n",
        "    layer.trainable = False"
      ],
      "metadata": {
        "id": "TIa4c6nVAlpR"
      },
      "execution_count": 7,
      "outputs": []
    },
    {
      "cell_type": "code",
      "source": [
        "x = layers.Flatten()(base_model.output)\n",
        "x = layers.Dense(512, activation='relu')(x)\n",
        "x = layers.Dropout(0.2)(x)\n",
        "x = layers.Dense(5, activation='Softmax')(x)\n",
        "model = tf.keras.models.Model(base_model.input, x)\n",
        "model.compile(optimizer = 'adam', loss = 'categorical_crossentropy', metrics = ['acc'])"
      ],
      "metadata": {
        "id": "wfAV96meg2Xi"
      },
      "execution_count": 8,
      "outputs": []
    },
    {
      "cell_type": "code",
      "source": [
        "from tensorflow.keras.callbacks import EarlyStopping \n",
        "early_stopping = EarlyStopping(restore_best_weights=True, patience=1)"
      ],
      "metadata": {
        "id": "Xdk4nbqo9xJk"
      },
      "execution_count": 9,
      "outputs": []
    },
    {
      "cell_type": "code",
      "source": [
        "resnet_history = model.fit(x_train, y_train, validation_data = (x_val,y_val), epochs = 10, callbacks = [early_stopping])"
      ],
      "metadata": {
        "id": "gnr2lOQm9xL2",
        "colab": {
          "base_uri": "https://localhost:8080/"
        },
        "outputId": "5425f01e-a482-4ec4-c2f5-bd60ef53a326"
      },
      "execution_count": 10,
      "outputs": [
        {
          "output_type": "stream",
          "name": "stdout",
          "text": [
            "Epoch 1/10\n",
            "31/31 [==============================] - 215s 7s/step - loss: 9.1149 - acc: 0.5600 - val_loss: 0.7736 - val_acc: 0.7850\n",
            "Epoch 2/10\n",
            "31/31 [==============================] - 206s 7s/step - loss: 0.3966 - acc: 0.8860 - val_loss: 0.2247 - val_acc: 0.9100\n",
            "Epoch 3/10\n",
            "31/31 [==============================] - 207s 7s/step - loss: 0.1776 - acc: 0.9435 - val_loss: 0.1839 - val_acc: 0.9100\n",
            "Epoch 4/10\n",
            "31/31 [==============================] - 209s 7s/step - loss: 0.1148 - acc: 0.9677 - val_loss: 0.1256 - val_acc: 0.9750\n",
            "Epoch 5/10\n",
            "31/31 [==============================] - 207s 7s/step - loss: 0.0867 - acc: 0.9667 - val_loss: 0.1572 - val_acc: 0.9450\n"
          ]
        }
      ]
    },
    {
      "cell_type": "markdown",
      "source": [
        "# **Histroy Plot**"
      ],
      "metadata": {
        "id": "iTZ4-PNLd7G_"
      }
    },
    {
      "cell_type": "code",
      "source": [
        "def history_plot(history):\n",
        "  acc = history.history['acc']\n",
        "  val_acc = history.history['val_acc']\n",
        "  loss = history.history['loss']\n",
        "  val_loss = history.history['val_loss']\n",
        "  epochs_range = range(len(acc))\n",
        "  plt.figure(figsize=(12, 8))\n",
        "  plt.subplot(2, 1, 1)\n",
        "  plt.plot(epochs_range, acc, label='Training Accuracy')\n",
        "  plt.plot(epochs_range, val_acc, label='Validation Accuracy')\n",
        "  plt.legend(loc='lower right')\n",
        "  plt.title('Training and Validation Accuracy')\n",
        "  plt.subplot(2, 1, 2)\n",
        "  plt.plot(epochs_range, loss, label='Training Loss')\n",
        "  plt.plot(epochs_range, val_loss, label='Validation Loss')\n",
        "  plt.legend(loc='upper right')\n",
        "  plt.title('Training and Validation Loss')\n",
        "  plt.show()"
      ],
      "metadata": {
        "id": "CrbI29JT9xPN"
      },
      "execution_count": 11,
      "outputs": []
    },
    {
      "cell_type": "code",
      "source": [
        "history_plot(resnet_history)"
      ],
      "metadata": {
        "id": "qrij3TyoAlxg",
        "colab": {
          "base_uri": "https://localhost:8080/",
          "height": 499
        },
        "outputId": "2a90a601-fc1c-4e30-b005-e774dd259a7f"
      },
      "execution_count": 12,
      "outputs": [
        {
          "output_type": "display_data",
          "data": {
            "text/plain": [
              "<Figure size 864x576 with 2 Axes>"
            ],
            "image/png": "[encoded data removed]"
          },
          "metadata": {
            "needs_background": "light"
          }
        }
      ]
    },
    {
      "cell_type": "markdown",
      "source": [
        "# **Save Model**"
      ],
      "metadata": {
        "id": "aBwuwCyzeAWg"
      }
    },
    {
      "cell_type": "code",
      "execution_count": 13,
      "metadata": {
        "id": "8J8D9yzyEznp"
      },
      "outputs": [],
      "source": [
        "from tensorflow.keras.models import load_model\n",
        "model.save('model_ResNet.h5')"
      ]
    },
    {
      "cell_type": "code",
      "source": [
        "from keras.models import load_model\n",
        "ResNet_model = load_model('model_ResNet.h5')"
      ],
      "metadata": {
        "id": "GNM7yXOjTWms"
      },
      "execution_count": 14,
      "outputs": []
    },
    {
      "cell_type": "code",
      "source": [
        "def predict_person(path):\n",
        "  labels = ['personA', 'personB', 'personC', 'personD', 'personE']\n",
        "  image = load_img(path, target_size=(224, 224))\n",
        "  img = np.array(image)\n",
        "  img = img / 255.0\n",
        "  img = img.reshape(1,224,224,3)\n",
        "  predictions = ResNet_model.predict(img)\n",
        "  person = labels[predictions.argmax()]\n",
        "  return person\n",
        "\n",
        "image_path = r'/content/drive/MyDrive/CV_Dataset/CV2023TestSamples/SignatureTestSamples/personD_real2.png'\n",
        "i = predict_person(image_path)\n",
        "print(i)"
      ],
      "metadata": {
        "colab": {
          "base_uri": "https://localhost:8080/"
        },
        "id": "SXRe_ksHTau-",
        "outputId": "4f59e076-3f53-4b49-f872-b7c0a9982c36"
      },
      "execution_count": 15,
      "outputs": [
        {
          "output_type": "stream",
          "name": "stdout",
          "text": [
            "1/1 [==============================] - 3s 3s/step\n",
            "personD\n"
          ]
        }
      ]
    },
    {
      "cell_type": "code",
      "source": [],
      "metadata": {
        "id": "L3KNGYEuoxy8"
      },
      "execution_count": null,
      "outputs": []
    }
  ]
}