{
  "nbformat": 4,
  "nbformat_minor": 0,
  "metadata": {
    "colab": {
      "provenance": []
    },
    "kernelspec": {
      "name": "python3",
      "display_name": "Python 3"
    },
    "language_info": {
      "name": "python"
    },
    "accelerator": "GPU",
    "gpuClass": "standard"
  },
  "cells": [
    {
      "cell_type": "code",
      "execution_count": 2,
      "metadata": {
        "id": "ZkPvVRc69umG",
        "colab": {
          "base_uri": "https://localhost:8080/"
        },
        "outputId": "29991fc4-52a6-46e5-ddd2-bd359db26388"
      },
      "outputs": [
        {
          "output_type": "stream",
          "name": "stdout",
          "text": [
            "Drive already mounted at /content/drive; to attempt to forcibly remount, call drive.mount(\"/content/drive\", force_remount=True).\n"
          ]
        }
      ],
      "source": [
        "from google.colab import drive\n",
        "drive.mount('/content/drive')"
      ]
    },
    {
      "cell_type": "code",
      "source": [
        "import keras, os\n",
        "import tensorflow as tf\n",
        "from keras.models import Model\n",
        "import matplotlib.pyplot as plt\n",
        "from keras.models import Sequential\n",
        "from tensorflow.keras.layers import concatenate\n",
        "from keras.preprocessing.image import ImageDataGenerator\n",
        "from tensorflow.keras import datasets, layers, models, losses\n",
        "from keras.layers import Input, Dense, Conv2D, MaxPool2D , Flatten, MaxPooling2D, GlobalAveragePooling2D ,AveragePooling2D, Dropout, Activation, BatchNormalization\n",
        "from keras.models import load_model\n",
        "from keras_preprocessing.image import load_img\n",
        "from keras_preprocessing.image import img_to_array\n",
        "from tensorflow.keras.applications.vgg16 import VGG16\n",
        "import numpy as np\n",
        "import cv2\n",
        "import os"
      ],
      "metadata": {
        "id": "ZoRsJYjc9w-J"
      },
      "execution_count": 2,
      "outputs": []
    },
    {
      "cell_type": "markdown",
      "source": [
        "# **Read Data**"
      ],
      "metadata": {
        "id": "w_txt9T6sARC"
      }
    },
    {
      "cell_type": "code",
      "source": [
        "labels = ['personA', 'personB', 'personC', 'personD', 'personE']\n",
        "\n",
        "img_size = 224\n",
        "\n",
        "def get_data(data_dir):\n",
        "    data = [] \n",
        "    for label in labels: \n",
        "        path = os.path.join(data_dir, label)\n",
        "        class_num = labels.index(label)\n",
        "        for img in os.listdir(path):\n",
        "            try:\n",
        "                img_arr = cv2.imread(os.path.join(path, img))[...,::-1] #convert BGR to RGB format\n",
        "                resized_arr = cv2.resize(img_arr, (img_size, img_size)) # Reshaping images to preferred size\n",
        "                c = [0,0,0,0,0]\n",
        "                c[class_num] = 1\n",
        "                data.append([resized_arr, c])\n",
        "            except Exception as e:\n",
        "                print(e)\n",
        "    return np.array(data)\n",
        "\n",
        "train = get_data('/content/drive/MyDrive/CV_Dataset/Aug_Train')\n",
        "val = get_data('/content/drive/MyDrive/CV_Dataset/Aug_Validation')"
      ],
      "metadata": {
        "id": "gkpQGOYN9xAO",
        "colab": {
          "base_uri": "https://localhost:8080/"
        },
        "outputId": "84471824-b21d-4c4b-ebf3-1ed18184e6f4"
      },
      "execution_count": 5,
      "outputs": [
        {
          "output_type": "stream",
          "name": "stderr",
          "text": [
            "<ipython-input-5-63ccfcfe0b01>:19: VisibleDeprecationWarning: Creating an ndarray from ragged nested sequences (which is a list-or-tuple of lists-or-tuples-or ndarrays with different lengths or shapes) is deprecated. If you meant to do this, you must specify 'dtype=object' when creating the ndarray.\n",
            "  return np.array(data)\n"
          ]
        }
      ]
    },
    {
      "cell_type": "code",
      "source": [
        "x_train = []\n",
        "y_train = []\n",
        "x_val = []\n",
        "y_val = []\n",
        "\n",
        "for feature, label in train:\n",
        "  x_train.append(feature)\n",
        "  y_train.append(label)\n",
        "\n",
        "for feature, label in val:\n",
        "  x_val.append(feature)\n",
        "  y_val.append(label)\n",
        "\n",
        "\n",
        "\n",
        "# Normalize the data\n",
        "x_train = np.array(x_train) / 255\n",
        "x_val = np.array(x_val) / 255\n",
        "\n",
        "x_train.reshape(-1, img_size, img_size, 1)\n",
        "y_train = np.array(y_train)\n",
        "\n",
        "x_val.reshape(-1, img_size, img_size, 1)\n",
        "y_val = np.array(y_val)"
      ],
      "metadata": {
        "id": "5gVTZfJNu1u3"
      },
      "execution_count": 6,
      "outputs": []
    },
    {
      "cell_type": "code",
      "source": [
        "print(x_train.shape)\n",
        "print(y_train.shape)\n",
        "print(x_val.shape)\n",
        "print(y_val.shape)"
      ],
      "metadata": {
        "colab": {
          "base_uri": "https://localhost:8080/"
        },
        "id": "IPgRPLaJwfps",
        "outputId": "f9f0e339-d6d2-43f1-c29e-18ef3378d4c3"
      },
      "execution_count": 7,
      "outputs": [
        {
          "output_type": "stream",
          "name": "stdout",
          "text": [
            "(991, 224, 224, 3)\n",
            "(991, 5)\n",
            "(200, 224, 224, 3)\n",
            "(200, 5)\n"
          ]
        }
      ]
    },
    {
      "cell_type": "markdown",
      "source": [
        "# **VGG-16 _ Model**"
      ],
      "metadata": {
        "id": "NI8i7UWxsHNN"
      }
    },
    {
      "cell_type": "code",
      "source": [
        "base_model = VGG16(input_shape = (224, 224, 3), include_top = False, weights = 'imagenet')"
      ],
      "metadata": {
        "id": "qon3aiVEq8vl",
        "colab": {
          "base_uri": "https://localhost:8080/"
        },
        "outputId": "31a5a800-3057-4f55-b53f-047e3f09799d"
      },
      "execution_count": 8,
      "outputs": [
        {
          "output_type": "stream",
          "name": "stdout",
          "text": [
            "Downloading data from https://storage.googleapis.com/tensorflow/keras-applications/vgg16/vgg16_weights_tf_dim_ordering_tf_kernels_notop.h5\n",
            "58889256/58889256 [==============================] - 4s 0us/step\n"
          ]
        }
      ]
    },
    {
      "cell_type": "code",
      "source": [
        "for layer in base_model.layers:\n",
        "    layer.trainable = False"
      ],
      "metadata": {
        "id": "U8Prhi0jRaRU"
      },
      "execution_count": 9,
      "outputs": []
    },
    {
      "cell_type": "code",
      "source": [
        "x = layers.Flatten()(base_model.output)\n",
        "x = layers.Dense(512, activation='relu')(x)\n",
        "x = layers.Dropout(0.5)(x)\n",
        "x = layers.Dense(5, activation='Softmax')(x)\n",
        "model = tf.keras.models.Model(base_model.input, x)\n",
        "model.compile(optimizer = 'adam', loss = 'categorical_crossentropy',metrics = ['acc'])"
      ],
      "metadata": {
        "id": "UhgByoOFjcze"
      },
      "execution_count": 10,
      "outputs": []
    },
    {
      "cell_type": "code",
      "source": [
        "from tensorflow.keras.callbacks import EarlyStopping \n",
        "early_stopping = EarlyStopping(restore_best_weights=True,patience=1)"
      ],
      "metadata": {
        "id": "qSdkCoRR2Dxf"
      },
      "execution_count": 11,
      "outputs": []
    },
    {
      "cell_type": "code",
      "source": [
        "vgghist = model.fit(x_train, y_train, validation_data = (x_val,y_val), epochs = 10, callbacks = [early_stopping])"
      ],
      "metadata": {
        "colab": {
          "base_uri": "https://localhost:8080/"
        },
        "id": "Vg8YHYIrjc3C",
        "outputId": "97adf289-81a5-4bc0-87f5-50c67de5df1d"
      },
      "execution_count": 12,
      "outputs": [
        {
          "output_type": "stream",
          "name": "stdout",
          "text": [
            "Epoch 1/10\n",
            "31/31 [==============================] - 20s 331ms/step - loss: 2.1400 - acc: 0.6559 - val_loss: 0.0596 - val_acc: 0.9900\n",
            "Epoch 2/10\n",
            "31/31 [==============================] - 6s 194ms/step - loss: 0.1004 - acc: 0.9677 - val_loss: 0.0188 - val_acc: 1.0000\n",
            "Epoch 3/10\n",
            "31/31 [==============================] - 6s 196ms/step - loss: 0.0352 - acc: 0.9899 - val_loss: 0.0173 - val_acc: 1.0000\n",
            "Epoch 4/10\n",
            "31/31 [==============================] - 6s 196ms/step - loss: 0.0147 - acc: 0.9980 - val_loss: 0.0103 - val_acc: 1.0000\n",
            "Epoch 5/10\n",
            "31/31 [==============================] - 6s 196ms/step - loss: 0.0139 - acc: 0.9980 - val_loss: 0.0086 - val_acc: 1.0000\n",
            "Epoch 6/10\n",
            "31/31 [==============================] - 6s 194ms/step - loss: 0.0082 - acc: 0.9990 - val_loss: 0.0041 - val_acc: 1.0000\n",
            "Epoch 7/10\n",
            "31/31 [==============================] - 6s 192ms/step - loss: 0.0053 - acc: 1.0000 - val_loss: 0.0045 - val_acc: 1.0000\n"
          ]
        }
      ]
    },
    {
      "cell_type": "markdown",
      "source": [
        "# **History Plot**"
      ],
      "metadata": {
        "id": "6kOdsI-qsSor"
      }
    },
    {
      "cell_type": "code",
      "source": [
        "def history_plot(history):\n",
        "  acc = history.history['acc']\n",
        "  val_acc = history.history['val_acc']\n",
        "  loss = history.history['loss']\n",
        "  val_loss = history.history['val_loss']\n",
        "  epochs_range = range(len(acc))\n",
        "  plt.figure(figsize=(12, 8))\n",
        "  plt.subplot(2, 1, 1)\n",
        "  plt.plot(epochs_range, acc, label='Training Accuracy')\n",
        "  plt.plot(epochs_range, val_acc, label='Validation Accuracy')\n",
        "  plt.legend(loc='lower right')\n",
        "  plt.title('Training and Validation Accuracy')\n",
        "  plt.subplot(2, 1, 2)\n",
        "  plt.plot(epochs_range, loss, label='Training Loss')\n",
        "  plt.plot(epochs_range, val_loss, label='Validation Loss')\n",
        "  plt.legend(loc='upper right')\n",
        "  plt.title('Training and Validation Loss')\n",
        "  plt.show()"
      ],
      "metadata": {
        "id": "MG_5zyVHlXom"
      },
      "execution_count": 13,
      "outputs": []
    },
    {
      "cell_type": "code",
      "source": [
        "history_plot(vgghist)"
      ],
      "metadata": {
        "colab": {
          "base_uri": "https://localhost:8080/",
          "height": 499
        },
        "id": "g2dMDxJDlXra",
        "outputId": "49937bf4-f642-4ece-dbd1-c173427b86cb"
      },
      "execution_count": 14,
      "outputs": [
        {
          "output_type": "display_data",
          "data": {
            "text/plain": [
              "<Figure size 864x576 with 2 Axes>"
            ],
            "image/png": "[encoded data removed]"
          },
          "metadata": {
            "needs_background": "light"
          }
        }
      ]
    },
    {
      "cell_type": "markdown",
      "source": [
        "# **Save Model**"
      ],
      "metadata": {
        "id": "89-t9_aGsYjo"
      }
    },
    {
      "cell_type": "code",
      "source": [
        "from tensorflow.keras.models import load_model\n",
        "model.save('model_VGG.h5')"
      ],
      "metadata": {
        "id": "WwOlX0uBY9Wh"
      },
      "execution_count": 15,
      "outputs": []
    },
    {
      "cell_type": "code",
      "source": [
        "from keras.models import load_model\n",
        "VGG_model = load_model('model_VGG.h5')"
      ],
      "metadata": {
        "id": "1E_jfkGAmTTg"
      },
      "execution_count": 16,
      "outputs": []
    },
    {
      "cell_type": "code",
      "source": [
        "def predict_person(path):\n",
        "  labels = ['personA', 'personB', 'personC', 'personD', 'personE']\n",
        "  image = load_img(path, target_size=(224, 224))\n",
        "  img = np.array(image)\n",
        "  img = img / 255.0\n",
        "  img = img.reshape(1,224,224,3)\n",
        "  predictions = VGG_model.predict(img)\n",
        "  person = labels[predictions.argmax()]\n",
        "  return person\n",
        "\n",
        "image_path = r'/content/drive/MyDrive/CV_Dataset/CV2023TestSamples/SignatureTestSamples/personD_real2.png'\n",
        "i = predict_person(image_path)\n",
        "print(i)"
      ],
      "metadata": {
        "colab": {
          "base_uri": "https://localhost:8080/"
        },
        "id": "TMzVur9rlXu0",
        "outputId": "e89ce2f1-376c-4808-b5c9-f71f1787b253"
      },
      "execution_count": 22,
      "outputs": [
        {
          "output_type": "stream",
          "name": "stdout",
          "text": [
            "1/1 [==============================] - 0s 18ms/step\n",
            "personD\n"
          ]
        }
      ]
    }
  ]
}